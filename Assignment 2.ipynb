{
 "cells": [
  {
   "cell_type": "markdown",
   "metadata": {},
   "source": [
    "# Assignment 2"
   ]
  },
  {
   "cell_type": "markdown",
   "metadata": {},
   "source": [
    "# Question 1:\n",
    "Create an empty list. Accept 10 numbers from the user and append to it the list if it is an even number. "
   ]
  },
  {
   "cell_type": "code",
   "execution_count": 1,
   "metadata": {},
   "outputs": [
    {
     "name": "stdout",
     "output_type": "stream",
     "text": [
      "1\n",
      "2\n",
      "3\n",
      "4\n",
      "5\n",
      "6\n",
      "7\n",
      "8\n",
      "9\n",
      "12\n",
      "[2, 4, 6, 8, 12]\n"
     ]
    }
   ],
   "source": [
    "l=[]\n",
    "i=1\n",
    "while i<=10:\n",
    "    n=int(input())\n",
    "    if n%2==0:\n",
    "        l.append(n)\n",
    "    i=i+1\n",
    "print(l)    "
   ]
  },
  {
   "cell_type": "markdown",
   "metadata": {},
   "source": [
    "# Question 2:\n",
    "Create a notebook on LIST COMPREHENSION. This exercise is to put you in a Self learning mode "
   ]
  },
  {
   "cell_type": "code",
   "execution_count": 6,
   "metadata": {},
   "outputs": [
    {
     "name": "stdout",
     "output_type": "stream",
     "text": [
      "Shubham\n",
      "<class 'str'>\n",
      "['S', 'h', 'u', 'b', 'h', 'a', 'm']\n",
      "<class 'list'>\n"
     ]
    }
   ],
   "source": [
    "v=\"Shubham\"\n",
    "print(v)\n",
    "print(type(v))\n",
    "#convert string to list\n",
    "l=list(v)\n",
    "print(l)\n",
    "print(type(l))\n"
   ]
  },
  {
   "cell_type": "code",
   "execution_count": 16,
   "metadata": {},
   "outputs": [
    {
     "name": "stdout",
     "output_type": "stream",
     "text": [
      "Shubham\n",
      "<class 'str'>\n",
      "['S', 'h', 'u', 'b', 'h', 'a', 'm']\n",
      "<class 'list'>\n",
      "S\n",
      "b\n",
      "m\n",
      "a\n",
      "False\n",
      "True\n"
     ]
    }
   ],
   "source": [
    "v=\"Shubham\"\n",
    "print(v)\n",
    "print(type(v))\n",
    "#convert string to list\n",
    "l=list(v)\n",
    "print(l)\n",
    "print(type(l))\n",
    "#find the indexing\n",
    "print(l[0])\n",
    "print(l[3])\n",
    "print(l[6])\n",
    "print(l[-2])\n",
    "print(l[0]==l[-6])\n",
    "print(l[0]==l[-7])"
   ]
  },
  {
   "cell_type": "code",
   "execution_count": 21,
   "metadata": {},
   "outputs": [
    {
     "name": "stdout",
     "output_type": "stream",
     "text": [
      "Shubham\n",
      "<class 'str'>\n",
      "['S', 'h', 'u', 'b', 'h', 'a', 'm']\n",
      "<class 'list'>\n",
      "['S', 'h', 'u', 'b', 'h']\n",
      "['b', 'h', 'a', 'm']\n",
      "['S', 'h', 'u', 'b', 'h', 'a']\n"
     ]
    }
   ],
   "source": [
    "v=\"Shubham\"\n",
    "print(v)\n",
    "print(type(v))\n",
    "#convert string to list\n",
    "l=list(v)\n",
    "print(l)\n",
    "print(type(l))\n",
    "#slicing\n",
    "print(l[0:5])\n",
    "print(l[3:7])\n",
    "print(l[:6])"
   ]
  },
  {
   "cell_type": "code",
   "execution_count": 30,
   "metadata": {},
   "outputs": [
    {
     "name": "stdout",
     "output_type": "stream",
     "text": [
      "[0, 2, 4, 6, 8, 10, 12, 14, 16, 18]\n"
     ]
    }
   ],
   "source": [
    "#syntax : -   [expression for item in list]\n",
    "#using the if condition in the list\n",
    "n=[x for x in range(20) if x%2==0 ]\n",
    "print(n)"
   ]
  },
  {
   "cell_type": "code",
   "execution_count": 45,
   "metadata": {},
   "outputs": [
    {
     "name": "stdout",
     "output_type": "stream",
     "text": [
      "[10, 20, 30, 40, 50, 60, 70, 80, 90, 100, 110, 120, 130, 140, 150, 160, 170, 180, 190]\n"
     ]
    }
   ],
   "source": [
    "#syntax : -   [expression for item in list]\n",
    "#using the nested if condition in the list\n",
    "n=[x for x in range(1,200) if x%2==0 if x%5==0 ]\n",
    "print(n)"
   ]
  },
  {
   "cell_type": "markdown",
   "metadata": {},
   "source": [
    "# Question 3:\n",
    "You have seen in the videos how powerful dictionary data structure is. In this assignment, given a number n, you have to write a program that generates a dictionary d which contains (i, i*i), where i is from 1 to n (both included). Then you have to just print this dictionary d. "
   ]
  },
  {
   "cell_type": "code",
   "execution_count": 23,
   "metadata": {},
   "outputs": [
    {
     "name": "stdout",
     "output_type": "stream",
     "text": [
      "8\n",
      "{1: 1, 2: 4, 3: 9, 4: 16, 5: 25, 6: 36, 7: 49, 8: 64}\n"
     ]
    }
   ],
   "source": [
    "n=int(input())\n",
    "d={i : i*i for i in range(1,n+1)}\n",
    "print(d)\n",
    "    \n"
   ]
  },
  {
   "cell_type": "markdown",
   "metadata": {},
   "source": [
    "# Question 4:\n",
    "Write a program to compute the distance between the current position after a sequence of movement and original point. If the distance is a float, then just print the nearest integer (use round() function for that and then convert it into an integer). "
   ]
  },
  {
   "cell_type": "code",
   "execution_count": 42,
   "metadata": {},
   "outputs": [
    {
     "name": "stdout",
     "output_type": "stream",
     "text": [
      "4\n",
      "UP 5\n",
      "DOWN 3\n",
      "LEFT 3\n",
      "RIGHT 2\n",
      "2\n"
     ]
    }
   ],
   "source": [
    "n=int(input())\n",
    "if n==1:\n",
    "    u=float(input(\"UP \"))\n",
    "    print(round(u))\n",
    "if n==2:\n",
    "    u=float(input(\"UP \"))\n",
    "    d=float(input(\"DOWN \"))\n",
    "    distance=u-d\n",
    "    print(round(distance))\n",
    "if n==3:\n",
    "    u=float(input(\"UP \"))\n",
    "    d=float(input(\"DOWN \"))\n",
    "    l=float(input(\"LEFT \"))\n",
    "    distance=(u-d)*l\n",
    "    print(round(distance))\n",
    "if n==4:\n",
    "    u=float(input(\"UP \"))\n",
    "    d=float(input(\"DOWN \"))\n",
    "    l=float(input(\"LEFT \"))\n",
    "    r=float(input(\"RIGHT \"))\n",
    "    distance=(u-d)*(l-r)\n",
    "    print(round(distance))\n",
    "    \n",
    "else:\n",
    "    print(\"Wrong Input\")"
   ]
  },
  {
   "cell_type": "code",
   "execution_count": null,
   "metadata": {},
   "outputs": [],
   "source": []
  }
 ],
 "metadata": {
  "kernelspec": {
   "display_name": "Python 3",
   "language": "python",
   "name": "python3"
  },
  "language_info": {
   "codemirror_mode": {
    "name": "ipython",
    "version": 3
   },
   "file_extension": ".py",
   "mimetype": "text/x-python",
   "name": "python",
   "nbconvert_exporter": "python",
   "pygments_lexer": "ipython3",
   "version": "3.7.6"
  }
 },
 "nbformat": 4,
 "nbformat_minor": 4
}
