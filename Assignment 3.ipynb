{
 "cells": [
  {
   "cell_type": "markdown",
   "metadata": {},
   "source": [
    "# Assignment 3"
   ]
  },
  {
   "cell_type": "markdown",
   "metadata": {},
   "source": [
    "# Question 1:\n",
    "Create a numpy array starting from 2 till 50 with a stepsize of 3. "
   ]
  },
  {
   "cell_type": "code",
   "execution_count": 10,
   "metadata": {},
   "outputs": [
    {
     "name": "stdout",
     "output_type": "stream",
     "text": [
      "[ 2  5  8 11 14 17 20 23 26 29 32 35 38 41 44 47 50]\n"
     ]
    }
   ],
   "source": [
    "import numpy as np\n",
    "l=np.arange(2,51,3)\n",
    "print(l)"
   ]
  },
  {
   "cell_type": "markdown",
   "metadata": {},
   "source": [
    "# Question 2:\n",
    "Accept two lists of 5 elements each from the user.  Convert them to numpy arrays. Concatenate these arrays and print it. Also sort these arrays and print it. "
   ]
  },
  {
   "cell_type": "code",
   "execution_count": 45,
   "metadata": {},
   "outputs": [
    {
     "name": "stdout",
     "output_type": "stream",
     "text": [
      "Enter the number of first list=4\n",
      "Enter the number of first list=6\n",
      "Enter the number of first list=2\n",
      "Enter the number of first list=4\n",
      "Enter the number of first list=9\n",
      "Enter the number of second list=5\n",
      "Enter the number of second list=10\n",
      "Enter the number of second list=0\n",
      "Enter the number of second list=2\n",
      "Enter the number of second list=7\n",
      "List 1= [4, 6, 2, 4, 9]\n",
      "List 2= [5, 10, 0, 2, 7]\n",
      "<class 'numpy.ndarray'>\n",
      "<class 'numpy.ndarray'>\n",
      "Array 1= [4 6 2 4 9]\n",
      "Array 2= [ 5 10  0  2  7]\n",
      "Concatenation of the array= [ 4  6  2  4  9  5 10  0  2  7]\n",
      "Sort the array= [ 0  2  2  4  4  5  6  7  9 10]\n"
     ]
    }
   ],
   "source": [
    "l1=[]\n",
    "l2=[]\n",
    "i=1\n",
    "j=1\n",
    "while i<=5:\n",
    "    n1=int(input(\"Enter the number of first list=\"))\n",
    "    l1.append(n1)\n",
    "    i=i+1\n",
    "while j<=5:\n",
    "    n2=int(input(\"Enter the number of second list=\"))\n",
    "    l2.append(n2)\n",
    "    j=j+1\n",
    "print(\"List 1=\",l1)\n",
    "print(\"List 2=\",l2)\n",
    "arr1=np.array(l1)   #convert to a list in a array\n",
    "arr2=np.array(l2)   #convert to a list in a array\n",
    "print(type(arr1))\n",
    "print(type(arr2))\n",
    "print(\"Array 1=\",arr1)\n",
    "print(\"Array 2=\",arr2)\n",
    "a=np.concatenate((arr1,arr2))\n",
    "print(\"Concatenation of the array=\",a)\n",
    "a.sort()\n",
    "print(\"Sort the array=\",a)"
   ]
  },
  {
   "cell_type": "markdown",
   "metadata": {},
   "source": [
    "# Question 3:\n",
    "Write a code snippet to find the dimensions of a ndarray and its size. "
   ]
  },
  {
   "cell_type": "code",
   "execution_count": 58,
   "metadata": {},
   "outputs": [
    {
     "name": "stdout",
     "output_type": "stream",
     "text": [
      "[ 1  2  3  4  5  6  7  8  9 10]\n",
      "10\n",
      "1\n"
     ]
    }
   ],
   "source": [
    "# 1D array\n",
    "arr1=np.arange(1,11)\n",
    "print(arr1)\n",
    "print(arr1.size)\n",
    "print(arr1.ndim)"
   ]
  },
  {
   "cell_type": "code",
   "execution_count": 59,
   "metadata": {},
   "outputs": [
    {
     "name": "stdout",
     "output_type": "stream",
     "text": [
      "[[ 1  2  3  4  5]\n",
      " [ 6  7  8  9 10]]\n",
      "10\n",
      "2\n"
     ]
    }
   ],
   "source": [
    "#2D Array\n",
    "arr1=np.arange(1,11).reshape(2,5)\n",
    "print(arr1)\n",
    "print(arr1.size)\n",
    "print(arr1.ndim)"
   ]
  },
  {
   "cell_type": "markdown",
   "metadata": {},
   "source": [
    "# Question 4:\n",
    "How to convert a 1D array into a 2D array? Demonstrate with the help of a code snippet Hint: np.newaxis, np.expand_dims"
   ]
  },
  {
   "cell_type": "code",
   "execution_count": 76,
   "metadata": {},
   "outputs": [
    {
     "name": "stdout",
     "output_type": "stream",
     "text": [
      "[0 1 2 3]\n",
      "(4,)\n",
      "(1, 4)\n",
      "(1, 4)\n"
     ]
    }
   ],
   "source": [
    "# np.newaxis\n",
    "\n",
    "A=np.arange(4)\n",
    "print(A)\n",
    "print(A.shape)\n",
    "\n",
    "r=A[np.newaxis,:]        #insert the axis along first dimension\n",
    "print(r.shape)\n",
    "\n",
    "c=A[:,np.newaxis]        #insert the axis along second dimension\n",
    "print(r.shape)"
   ]
  },
  {
   "cell_type": "code",
   "execution_count": 86,
   "metadata": {},
   "outputs": [
    {
     "name": "stdout",
     "output_type": "stream",
     "text": [
      "[0 1 2 3]\n",
      "(4,)\n",
      "[[0 1 2 3]]\n",
      "(1, 4)\n",
      "[[0]\n",
      " [1]\n",
      " [2]\n",
      " [3]]\n",
      "(4, 1)\n"
     ]
    }
   ],
   "source": [
    "# np.expand_dims\n",
    "\n",
    "A=np.arange(4)\n",
    "print(A)\n",
    "print(A.shape)\n",
    "\n",
    "B=np.expand_dims(A, axis=0)\n",
    "print(B)\n",
    "print(B.shape)\n",
    "\n",
    "B=np.expand_dims(A, axis=1)\n",
    "print(B)\n",
    "print(B.shape)"
   ]
  },
  {
   "cell_type": "markdown",
   "metadata": {},
   "source": [
    "# Question 5:\n",
    "Consider two square numpy arrays. Stack them vertically and horizontally. Hint: Use vstack(), hstack() "
   ]
  },
  {
   "cell_type": "code",
   "execution_count": 105,
   "metadata": {},
   "outputs": [
    {
     "name": "stdout",
     "output_type": "stream",
     "text": [
      "[0 1 2 3 4]\n",
      "[5 6 7 8 9]\n",
      "\n",
      "[ 0  1  4  9 16]\n",
      "[25 36 49 64 81]\n",
      "\n",
      "[[ 0  1  4  9 16]\n",
      " [25 36 49 64 81]]\n",
      "\n",
      "[ 0  1  4  9 16 25 36 49 64 81]\n"
     ]
    }
   ],
   "source": [
    "arr1=np.arange(5)\n",
    "arr2=np.arange(5,10)\n",
    "print(arr1)\n",
    "print(arr2)\n",
    "print()\n",
    "\n",
    "a1=np.square(arr1)         #square of the arr1\n",
    "a2=np.square(arr2)         #square of the arr2\n",
    "print(a1)\n",
    "print(a2)\n",
    "print()\n",
    "\n",
    "v1=np.vstack((a1,a2))     # stack them vertically\n",
    "print(v1)\n",
    "print()\n",
    "\n",
    "v2=np.hstack((a1,a2))     # stack them horizontally\n",
    "print(v2)\n",
    "\n"
   ]
  },
  {
   "cell_type": "markdown",
   "metadata": {},
   "source": [
    "# Question 6:\n",
    "How to get unique items and counts of unique items? "
   ]
  },
  {
   "cell_type": "code",
   "execution_count": 108,
   "metadata": {},
   "outputs": [
    {
     "name": "stdout",
     "output_type": "stream",
     "text": [
      "[1 1 2 2 2 3 4 5]\n",
      "{1, 2, 3, 4, 5}\n",
      "5\n"
     ]
    }
   ],
   "source": [
    "arr=np.array([1,1,2,2,2,3,4,5])\n",
    "print(arr)\n",
    "s=set(arr)  # set is used to get the unique items\n",
    "print(s)\n",
    "n=len(s)    # len is used to the count the unique items\n",
    "print(n)"
   ]
  },
  {
   "cell_type": "code",
   "execution_count": null,
   "metadata": {},
   "outputs": [],
   "source": []
  }
 ],
 "metadata": {
  "kernelspec": {
   "display_name": "Python 3",
   "language": "python",
   "name": "python3"
  },
  "language_info": {
   "codemirror_mode": {
    "name": "ipython",
    "version": 3
   },
   "file_extension": ".py",
   "mimetype": "text/x-python",
   "name": "python",
   "nbconvert_exporter": "python",
   "pygments_lexer": "ipython3",
   "version": "3.7.6"
  }
 },
 "nbformat": 4,
 "nbformat_minor": 4
}
